{
  "nbformat": 4,
  "nbformat_minor": 0,
  "metadata": {
    "colab": {
      "name": "Algorithms.ipynb",
      "version": "0.3.2",
      "provenance": [],
      "collapsed_sections": [],
      "include_colab_link": true
    },
    "kernelspec": {
      "name": "python3",
      "display_name": "Python 3"
    }
  },
  "cells": [
    {
      "cell_type": "markdown",
      "metadata": {
        "id": "view-in-github",
        "colab_type": "text"
      },
      "source": [
        "<a href=\"https://colab.research.google.com/github/swethanarayanan/algorithms/blob/master/Algorithms.ipynb\" target=\"_parent\"><img src=\"https://colab.research.google.com/assets/colab-badge.svg\" alt=\"Open In Colab\"/></a>"
      ]
    },
    {
      "cell_type": "markdown",
      "metadata": {
        "id": "cK3QjguTbIXa",
        "colab_type": "text"
      },
      "source": [
        "### Power Set"
      ]
    },
    {
      "cell_type": "code",
      "metadata": {
        "id": "ND2_a-2xU8bY",
        "colab_type": "code",
        "outputId": "464b5596-b2f1-49c9-9241-a9902c1eecd4",
        "colab": {
          "base_uri": "https://localhost:8080/",
          "height": 34
        }
      },
      "source": [
        "set = [1,2,3];\n",
        "\n",
        "def get_power_set(set):\n",
        "    if not set:\n",
        "        return [[]]\n",
        "    result_without_element = get_power_set(set[1:])\n",
        "    result_with_element = [ [set[0]] + subset  for subset in result_without_element]\n",
        "    return result_with_element + result_without_element\n",
        "\n",
        "print(get_power_set(set))"
      ],
      "execution_count": 0,
      "outputs": [
        {
          "output_type": "stream",
          "text": [
            "[[1, 2, 3], [1, 2], [1, 3], [1], [2, 3], [2], [3], []]\n"
          ],
          "name": "stdout"
        }
      ]
    },
    {
      "cell_type": "markdown",
      "metadata": {
        "id": "UwMyvQUMbfkL",
        "colab_type": "text"
      },
      "source": [
        "### Binary Tree Arithmetic Evaluation"
      ]
    },
    {
      "cell_type": "markdown",
      "metadata": {
        "id": "_z7KDh_ucp72",
        "colab_type": "text"
      },
      "source": [
        "This problem was asked by Microsoft.\n",
        "\n",
        "Suppose an arithmetic expression is given as a binary tree. Each leaf is an integer and each internal node is one of '+', '−', '∗', or '/'.\n",
        "\n",
        "Given the root to such a tree, write a function to evaluate it.\n",
        "\n",
        "For example, given the following tree:\n",
        "\n",
        "\n",
        "```\n",
        "    *\n",
        "   / \\\n",
        "  +    +\n",
        " / \\  / \\\n",
        "3  2  4  5\n",
        "```\n",
        "\n",
        "You should return 45, as it is (3 + 2) * (4 + 5)."
      ]
    },
    {
      "cell_type": "markdown",
      "metadata": {
        "id": "csv809avcPse",
        "colab_type": "text"
      },
      "source": [
        "#### Solution : \n",
        "\n",
        "This problem should be straightforward from the definition. It will be recursive.\n",
        "We check the value of the root node.\n",
        "If it's one of our arithmetic operators, then we take the evaluated value of our node's children and apply the operator on them.\n",
        "If it's not an arithmetic operator, it has to be a raw number, so we can just return that.\n"
      ]
    },
    {
      "cell_type": "code",
      "metadata": {
        "id": "qrSOX1TgbuDp",
        "colab_type": "code",
        "colab": {}
      },
      "source": [
        "  class Node:\n",
        "  def __init__(self,val,left=None, right=None):\n",
        "    self.val = val\n",
        "    self.left = left\n",
        "    self.right = right\n",
        "\n",
        "\n",
        "def evaluate(root):\n",
        "  if root.val == \"+\":\n",
        "      return evaluate(root.left) + evaluate(root.right)\n",
        "  elif root.val == '-':\n",
        "      return evaluate(root.left) - evaluate(root.right)\n",
        "  elif root.val == '*':\n",
        "      return evaluate(root.left) * evaluate(root.right)\n",
        "  elif root.val == '/':\n",
        "      return evaluate(root.left) / evaluate(root.right)\n",
        "  else:\n",
        "      return root.val"
      ],
      "execution_count": 0,
      "outputs": []
    },
    {
      "cell_type": "code",
      "metadata": {
        "id": "ckGM1-N6cgnr",
        "colab_type": "code",
        "outputId": "728ae1e7-d6f6-4367-b33f-ee2e3c4553e9",
        "colab": {
          "base_uri": "https://localhost:8080/",
          "height": 34
        }
      },
      "source": [
        "root = Node('*',Node('+',Node(3),Node(2)),Node('+', Node(4),Node(5)))\n",
        "print(evaluate(root))"
      ],
      "execution_count": 0,
      "outputs": [
        {
          "output_type": "stream",
          "text": [
            "45\n"
          ],
          "name": "stdout"
        }
      ]
    },
    {
      "cell_type": "markdown",
      "metadata": {
        "id": "zNgcj4WrdOC2",
        "colab_type": "text"
      },
      "source": [
        "### Find unique element in an array of triplets"
      ]
    },
    {
      "cell_type": "code",
      "metadata": {
        "id": "dXNno9rBchd1",
        "colab_type": "code",
        "colab": {}
      },
      "source": [
        "def find_unique(arr):\n",
        "  result_arr = [0] * 32\n",
        "  for num in arr:\n",
        "    for i in range(32):\n",
        "      #Bitshift operator\n",
        "      bit = num >> i & 1\n",
        "      result_arr[i] = (result_arr[i] + bit) % 3\n",
        "\n",
        "  result = 0\n",
        "  for i, bit in enumerate(result_arr):\n",
        "    if bit:\n",
        "      #Power\n",
        "      result += 2 ** i\n",
        "\n",
        "  return result"
      ],
      "execution_count": 0,
      "outputs": []
    },
    {
      "cell_type": "code",
      "metadata": {
        "id": "5LZ9BXJucyMX",
        "colab_type": "code",
        "outputId": "7e66ab4a-33df-4bf1-8651-2bfc4ac7b6fa",
        "colab": {
          "base_uri": "https://localhost:8080/",
          "height": 34
        }
      },
      "source": [
        "find_unique([6,1,3,3,3,6,6])"
      ],
      "execution_count": 0,
      "outputs": [
        {
          "output_type": "execute_result",
          "data": {
            "text/plain": [
              "1"
            ]
          },
          "metadata": {
            "tags": []
          },
          "execution_count": 9
        }
      ]
    },
    {
      "cell_type": "markdown",
      "metadata": {
        "id": "BOZKNFA-eT3O",
        "colab_type": "text"
      },
      "source": [
        "### Simple prefix based auto complete"
      ]
    },
    {
      "cell_type": "code",
      "metadata": {
        "id": "x63dCDL-egh7",
        "colab_type": "code",
        "outputId": "c7e182db-af91-4d9e-ac74-49f86505ea23",
        "colab": {
          "base_uri": "https://localhost:8080/",
          "height": 51
        }
      },
      "source": [
        "WORDS = ['deer', 'deal', 'dog']\n",
        "\n",
        "def autocomplete(s):\n",
        "    results = []\n",
        "    for word in WORDS:\n",
        "        if word.startswith(s):\n",
        "            results.append(word)\n",
        "    return results\n",
        "\n",
        "for result in autocomplete('de'):\n",
        "    print(result)"
      ],
      "execution_count": 0,
      "outputs": [
        {
          "output_type": "stream",
          "text": [
            "deer\n",
            "deal\n"
          ],
          "name": "stdout"
        }
      ]
    },
    {
      "cell_type": "markdown",
      "metadata": {
        "id": "mKqYCFeWfcuJ",
        "colab_type": "text"
      },
      "source": [
        "### Binary Search"
      ]
    },
    {
      "cell_type": "code",
      "metadata": {
        "id": "8e6NA9OSffnG",
        "colab_type": "code",
        "outputId": "e18fe882-ed5b-45ec-8f44-df9730ff898a",
        "colab": {
          "base_uri": "https://localhost:8080/",
          "height": 34
        }
      },
      "source": [
        "def binary_search(list, searchItem):\n",
        "  low = 0\n",
        "  high = len(list) - 1\n",
        "  while(low <= high):\n",
        "    mid = (low + high)//2\n",
        "    if(list[mid] == searchItem):\n",
        "        return mid\n",
        "    elif(list[mid] < searchItem):\n",
        "        low = mid + 1\n",
        "    else:\n",
        "          high = mid - 1\n",
        "  return None\n",
        "\n",
        "list = [1,3,4,5,6]\n",
        "print(\"The element was found at index \" + str(binary_search(list,4)))"
      ],
      "execution_count": 0,
      "outputs": [
        {
          "output_type": "stream",
          "text": [
            "The element was found at index 2\n"
          ],
          "name": "stdout"
        }
      ]
    },
    {
      "cell_type": "markdown",
      "metadata": {
        "id": "Rns7IKTng2e9",
        "colab_type": "text"
      },
      "source": [
        "### Create binary search tree from an array"
      ]
    },
    {
      "cell_type": "markdown",
      "metadata": {
        "id": "LHvRpGEKlixG",
        "colab_type": "text"
      },
      "source": [
        "#### Inserting elements into a BST :\n",
        "\n",
        "Let us start with constructing an AVL tree. To create a tree you have to insert n elements in it. To insert the element in a balanced tree you need log(n). Therefore you end up with O(n*log(n)).\n",
        "\n",
        "Coming back to a regular BST. It is counter-intuitive, but it depends how do you construct this tree. If you do not know all the elements of BST in advance (online algorithm) then you have to insert each of  n elements one after another. If you are extremely unlucky, the complexity of insert is O(n) and thus it deteriorates to O(n^2).\n",
        "\n",
        "Notice that this situation is highly unlikely, but still possible.\n",
        "\n",
        "But you can still achieve O(nlog(n)) if you know all the elements in advance. You can sort them O(nlog(n)) and then insert the elements in the following order. Take the middle element and insert it as a root, then recursively do the same for both parts that are left. You will end up creating balanced BST, inserting n elements using log(n).\n",
        "\n",
        "####  Inorder traversal \n",
        "O(n) complexity"
      ]
    },
    {
      "cell_type": "code",
      "metadata": {
        "id": "Plmll5Lig9Zs",
        "colab_type": "code",
        "colab": {}
      },
      "source": [
        "class Node:\n",
        "  def __init__(self, data):\n",
        "      self.left = None\n",
        "      self.right = None\n",
        "      self.data = data\n",
        "\n",
        "  def insert(self, data):\n",
        "\n",
        "      if self.data:\n",
        "        if data <= self.data:\n",
        "            if self.left is None:\n",
        "                self.left = Node(data)\n",
        "            else:\n",
        "                self.left.insert(data)\n",
        "        elif data >= self.data:\n",
        "            if self.right is None:\n",
        "                self.right = Node(data)\n",
        "            else:\n",
        "                self.right.insert(data)\n",
        "      else:\n",
        "          self.data = data\n",
        "          \n",
        "  def printData(self):\n",
        "    \n",
        "      if self.left != None:\n",
        "        self.left.printData()\n",
        "      \n",
        "      print(self.data)\n",
        "     \n",
        "      if self.right != None:\n",
        "        self.right.printData()"
      ],
      "execution_count": 0,
      "outputs": []
    },
    {
      "cell_type": "code",
      "metadata": {
        "id": "FHJocJJhhL-h",
        "colab_type": "code",
        "colab": {}
      },
      "source": [
        "list1 = [2,4,6,1,1,8,9,0]"
      ],
      "execution_count": 0,
      "outputs": []
    },
    {
      "cell_type": "code",
      "metadata": {
        "id": "1cEUOWuzhSM0",
        "colab_type": "code",
        "colab": {}
      },
      "source": [
        "root = Node(list1[0])\n",
        "for item in list1[1:]:\n",
        "  root.insert(item)"
      ],
      "execution_count": 0,
      "outputs": []
    },
    {
      "cell_type": "code",
      "metadata": {
        "id": "lt1rg9Uhhu0y",
        "colab_type": "code",
        "outputId": "927e40e7-3b88-473e-f6b7-9052948b9f6f",
        "colab": {
          "base_uri": "https://localhost:8080/",
          "height": 153
        }
      },
      "source": [
        "root.printData()"
      ],
      "execution_count": 0,
      "outputs": [
        {
          "output_type": "stream",
          "text": [
            "0\n",
            "1\n",
            "1\n",
            "2\n",
            "4\n",
            "6\n",
            "8\n",
            "9\n"
          ],
          "name": "stdout"
        }
      ]
    },
    {
      "cell_type": "markdown",
      "metadata": {
        "id": "WdC9hv4Hlhyo",
        "colab_type": "text"
      },
      "source": [
        ""
      ]
    },
    {
      "cell_type": "code",
      "metadata": {
        "id": "xPp5ruu4lrCo",
        "colab_type": "code",
        "colab": {}
      },
      "source": [
        ""
      ],
      "execution_count": 0,
      "outputs": []
    }
  ]
}