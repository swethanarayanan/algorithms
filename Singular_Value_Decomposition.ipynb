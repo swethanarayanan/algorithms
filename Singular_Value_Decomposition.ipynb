{
  "nbformat": 4,
  "nbformat_minor": 0,
  "metadata": {
    "colab": {
      "name": "Singular Value Decomposition.ipynb",
      "version": "0.3.2",
      "provenance": [],
      "collapsed_sections": [],
      "include_colab_link": true
    },
    "kernelspec": {
      "name": "python3",
      "display_name": "Python 3"
    }
  },
  "cells": [
    {
      "cell_type": "markdown",
      "metadata": {
        "id": "view-in-github",
        "colab_type": "text"
      },
      "source": [
        "<a href=\"https://colab.research.google.com/github/swethanarayanan/algorithms/blob/master/Singular_Value_Decomposition.ipynb\" target=\"_parent\"><img src=\"https://colab.research.google.com/assets/colab-badge.svg\" alt=\"Open In Colab\"/></a>"
      ]
    },
    {
      "cell_type": "markdown",
      "metadata": {
        "id": "C0-f19xEBJUZ",
        "colab_type": "text"
      },
      "source": [
        "We’ll attempt to classify handwritten digits. Fortunately, the scikit-learn library provides a wrapper function for importing the dataset into our program.\n",
        "\n",
        "https://towardsdatascience.com/singular-value-decomposition-example-in-python-dab2507d85a0"
      ]
    },
    {
      "cell_type": "code",
      "metadata": {
        "id": "O4g6dQjBA-j4",
        "colab_type": "code",
        "colab": {}
      },
      "source": [
        "import numpy as np\n",
        "from sklearn.datasets import load_digits\n",
        "from matplotlib import pyplot as plt\n",
        "from sklearn.decomposition import TruncatedSVD\n",
        "float_formatter = lambda x: \"%.2f\" % x\n",
        "np.set_printoptions(formatter={'float_kind':float_formatter})\n",
        "from sklearn.ensemble import RandomForestClassifier"
      ],
      "execution_count": 0,
      "outputs": []
    },
    {
      "cell_type": "code",
      "metadata": {
        "id": "Ail2maV4BGY4",
        "colab_type": "code",
        "colab": {}
      },
      "source": [
        "X, y = load_digits(return_X_y=True)"
      ],
      "execution_count": 0,
      "outputs": []
    },
    {
      "cell_type": "markdown",
      "metadata": {
        "id": "vSaE-gtwBSck",
        "colab_type": "text"
      },
      "source": [
        "The dataset contains 1797 8x8 images. If you specify return_X_y=True the function will return the pixels as a one dimensional array.\n"
      ]
    },
    {
      "cell_type": "code",
      "metadata": {
        "id": "bq7NgSy9BO_D",
        "colab_type": "code",
        "colab": {
          "base_uri": "https://localhost:8080/",
          "height": 34
        },
        "outputId": "92c2a090-28d6-41a5-aad9-9ad17272fa30"
      },
      "source": [
        "X.shape"
      ],
      "execution_count": 6,
      "outputs": [
        {
          "output_type": "execute_result",
          "data": {
            "text/plain": [
              "(1797, 64)"
            ]
          },
          "metadata": {
            "tags": []
          },
          "execution_count": 6
        }
      ]
    },
    {
      "cell_type": "markdown",
      "metadata": {
        "id": "4JQkNgiVBj6A",
        "colab_type": "text"
      },
      "source": [
        "Let’s take a look at the first digit. As we can see, it’s simply an array of length 64 containing the pixel intensities."
      ]
    },
    {
      "cell_type": "code",
      "metadata": {
        "id": "8qDvwFcDBT1E",
        "colab_type": "code",
        "colab": {
          "base_uri": "https://localhost:8080/",
          "height": 136
        },
        "outputId": "feee5e26-84e5-4b03-b683-e1a6945288e6"
      },
      "source": [
        "image = X[2]\n",
        "image"
      ],
      "execution_count": 10,
      "outputs": [
        {
          "output_type": "execute_result",
          "data": {
            "text/plain": [
              "array([0.00, 0.00, 0.00, 4.00, 15.00, 12.00, 0.00, 0.00, 0.00, 0.00, 3.00,\n",
              "       16.00, 15.00, 14.00, 0.00, 0.00, 0.00, 0.00, 8.00, 13.00, 8.00,\n",
              "       16.00, 0.00, 0.00, 0.00, 0.00, 1.00, 6.00, 15.00, 11.00, 0.00,\n",
              "       0.00, 0.00, 1.00, 8.00, 13.00, 15.00, 1.00, 0.00, 0.00, 0.00, 9.00,\n",
              "       16.00, 16.00, 5.00, 0.00, 0.00, 0.00, 0.00, 3.00, 13.00, 16.00,\n",
              "       16.00, 11.00, 5.00, 0.00, 0.00, 0.00, 0.00, 3.00, 11.00, 16.00,\n",
              "       9.00, 0.00])"
            ]
          },
          "metadata": {
            "tags": []
          },
          "execution_count": 10
        }
      ]
    },
    {
      "cell_type": "code",
      "metadata": {
        "id": "K_Wq_fQvBhD1",
        "colab_type": "code",
        "colab": {
          "base_uri": "https://localhost:8080/",
          "height": 292
        },
        "outputId": "ff1f09bc-739a-4118-ca0a-439174a117df"
      },
      "source": [
        "image = image.reshape((8, 8))\n",
        "plt.matshow(image, cmap = 'gray')"
      ],
      "execution_count": 11,
      "outputs": [
        {
          "output_type": "execute_result",
          "data": {
            "text/plain": [
              "<matplotlib.image.AxesImage at 0x7f531fa5bc88>"
            ]
          },
          "metadata": {
            "tags": []
          },
          "execution_count": 11
        },
        {
          "output_type": "display_data",
          "data": {
            "image/png": "[encoded data removed]",
            "text/plain": [
              "<Figure size 288x288 with 1 Axes>"
            ]
          },
          "metadata": {
            "tags": []
          }
        }
      ]
    },
    {
      "cell_type": "markdown",
      "metadata": {
        "id": "83GVLFqfB8Tt",
        "colab_type": "text"
      },
      "source": [
        "Next, we’ll use Singular Value Decomposition to see whether we are able to reconstruct the image using only 2 features for each row. The s matrix returned by the function must be converted into a diagonal matrix using the diag method. By default, diag will create a matrix that is n x n, relative to the original matrix. This causes a problem as the size of the matrices no longer follow the rule of matrix multiplication where the number of columns in a matrix must match the number of rows in the other matrix. Therefore, we create a new m x n matrix and populate the first n x n part of it with the diagonal matrix.\n"
      ]
    },
    {
      "cell_type": "code",
      "metadata": {
        "id": "uE27JY7tBo-L",
        "colab_type": "code",
        "colab": {
          "base_uri": "https://localhost:8080/",
          "height": 34
        },
        "outputId": "8caa8791-9b8b-4818-c730-d99091e3675a"
      },
      "source": [
        "import numpy\n",
        "import math\n",
        "U, s, V = np.linalg.svd(image)\n",
        "S = np.zeros((image.shape[0], image.shape[1]))\n",
        "S[:image.shape[0], :image.shape[0]] = np.diag(s)\n",
        "n_component = 2\n",
        "S = S[:, :n_component]\n",
        "S.shape"
      ],
      "execution_count": 21,
      "outputs": [
        {
          "output_type": "execute_result",
          "data": {
            "text/plain": [
              "(8, 2)"
            ]
          },
          "metadata": {
            "tags": []
          },
          "execution_count": 21
        }
      ]
    },
    {
      "cell_type": "code",
      "metadata": {
        "id": "3QQYFUu7DL62",
        "colab_type": "code",
        "colab": {}
      },
      "source": [
        "A = U.dot(Sigma.dot(VT))\n",
        "print(A)"
      ],
      "execution_count": 0,
      "outputs": []
    },
    {
      "cell_type": "code",
      "metadata": {
        "id": "BhLH9GQzB-gg",
        "colab_type": "code",
        "colab": {
          "base_uri": "https://localhost:8080/",
          "height": 292
        },
        "outputId": "da89ba05-45a0-4056-99af-f6a7a8f90138"
      },
      "source": [
        "plt.matshow(A, cmap = 'gray')"
      ],
      "execution_count": 20,
      "outputs": [
        {
          "output_type": "execute_result",
          "data": {
            "text/plain": [
              "<matplotlib.image.AxesImage at 0x7f531fa012b0>"
            ]
          },
          "metadata": {
            "tags": []
          },
          "execution_count": 20
        },
        {
          "output_type": "display_data",
          "data": {
            "image/png": "[encoded data removed]",
            "text/plain": [
              "<Figure size 1152x288 with 1 Axes>"
            ]
          },
          "metadata": {
            "tags": []
          }
        }
      ]
    },
    {
      "cell_type": "code",
      "metadata": {
        "id": "yXfbbmZ2DGrh",
        "colab_type": "code",
        "colab": {}
      },
      "source": [
        ""
      ],
      "execution_count": 0,
      "outputs": []
    }
  ]
}